{
  "nbformat": 4,
  "nbformat_minor": 0,
  "metadata": {
    "colab": {
      "provenance": [],
      "mount_file_id": "1rries-1OwaChKnv8okH1wkEeCgyoEXNf",
      "authorship_tag": "ABX9TyOtgY2GuPdk1Bntazg+5EcB",
      "include_colab_link": true
    },
    "kernelspec": {
      "name": "python3",
      "display_name": "Python 3"
    },
    "language_info": {
      "name": "python"
    }
  },
  "cells": [
    {
      "cell_type": "markdown",
      "metadata": {
        "id": "view-in-github",
        "colab_type": "text"
      },
      "source": [
        "<a href=\"https://colab.research.google.com/github/SXM58580/Assignment5/blob/main/Untitled6.ipynb\" target=\"_parent\"><img src=\"https://colab.research.google.com/assets/colab-badge.svg\" alt=\"Open In Colab\"/></a>"
      ]
    },
    {
      "cell_type": "code",
      "execution_count": null,
      "metadata": {
        "id": "-ATAz_A8Jeno"
      },
      "outputs": [],
      "source": [
        "from sklearn.decomposition import PCA\n",
        "from sklearn.preprocessing import StandardScaler\n",
        "from sklearn.model_selection import train_test_split\n",
        "import pandas as pd\n",
        "from sklearn.linear_model import LogisticRegression\n",
        "from sklearn.metrics import accuracy_score\n",
        "import matplotlib.pyplot as plt\n",
        "import warnings\n",
        "warnings.filterwarnings('ignore')\n",
        "from sklearn.svm import SVC, LinearSVC\n",
        "import seaborn as sns\n",
        "sns.set(style=\"white\", color_codes=True)\n",
        "import warnings\n",
        "warnings.filterwarnings(\"ignore\")\n",
        "df= pd.read_csv(\"/content/drive/MyDrive/CC GENERAL.csv\")\n",
        "df.head()\n",
        "df['TENURE'].value_counts()\n",
        "x = df.iloc[:,[1,2,3,4]]\n",
        "y = df.iloc[:,-1]\n",
        "from sklearn import preprocessing\n",
        "le = preprocessing.LabelEncoder()\n",
        "df['CUST_ID'] = le.fit_transform(df.CUST_ID.values)\n",
        "pca2 = PCA(n_components=2)\n",
        "principalComponents = pca2.fit_transform(x)\n",
        "principalDf = pd.DataFrame(data = principalComponents, columns = ['princip\n",
        "al component 1', 'principal component 2'])\n",
        "finalDf = pd.concat([principalDf, df[['TENURE']]], axis = 1)\n",
        "finalDf.head()\n",
        "from sklearn.cluster import KMeans\n",
        "nclusters = 2 # this is the k in kmeans\n",
        "km = KMeans(n_clusters=nclusters)\n",
        "km.fit(x)\n",
        "2 | P a g e\n",
        "# predict the cluster for each data point\n",
        "y_cluster_kmeans = km.predict(x)\n",
        "from sklearn import metrics\n",
        "score = metrics.silhouette_score(x, y_cluster_kmeans)\n",
        "print(score)\n",
        "scaler = StandardScaler()\n",
        "X_Scale = scaler.fit_transform(x)\n",
        "pca2 = PCA(n_components=2)\n",
        "principalComponents = pca2.fit_transform(X_Scale)\n",
        "principalDf1 = pd.DataFrame(data = principalComponents, columns = ['princi\n",
        "pal component 1', 'principal component 2'])\n",
        "finalDf1 = pd.concat([principalDf1, df[['TENURE']]], axis = 1)\n",
        "print(finalDf1.head())\n",
        "from sklearn.cluster import KMeans\n",
        "nclusters = 2 # this is the k in kmeans\n",
        "km = KMeans(n_clusters=nclusters)\n",
        "km.fit(X_Scale)\n",
        "# predict the cluster for each data point\n",
        "y_cluster_kmeans = km.predict(X_Scale)\n",
        "from sklearn import metrics\n",
        "score = metrics.silhouette_score(X_Scale, y_cluster_kmeans)\n",
        "print(score)"
      ]
    },
    {
      "cell_type": "code",
      "source": [
        "from sklearn.decomposition import PCA\n",
        "from sklearn.preprocessing import StandardScaler\n",
        "from sklearn.model_selection import train_test_split\n",
        "import pandas as pd\n",
        "from sklearn.linear_model import LogisticRegression\n",
        "from sklearn.metrics import accuracy_score\n",
        "import matplotlib.pyplot as plt\n",
        "import warnings\n",
        "warnings.filterwarnings('ignore')\n",
        "from sklearn.svm import SVC, LinearSVC\n",
        "df= pd.read_csv(\"/content/gdrive/MyDrive/datasets/pd_speech_features.csv\")\n",
        "df.head()\n",
        "df.shape\n",
        "df['class'].value_counts()\n",
        "X = df.drop('class',axis=1).values\n",
        "y = df['class'].values\n",
        "scaler = StandardScaler()\n",
        "X_Scale = scaler.fit_transform(X)\n",
        "pca2 = PCA(n_components=3)\n",
        "principalComponents = pca2.fit_transform(X_Scale)\n",
        "principalDf = pd.DataFrame(data = principalComponents, columns = ['princip\n",
        "al component 1', 'principal component 2', 'principal component 3'])\n",
        "finalDf = pd.concat([principalDf, df[['class']]], axis = 1)\n",
        "finalDf.head()\n",
        "X_train, X_test, y_train, y_test = train_test_split(X_Scale,y, test_size=0\n",
        ".3,random_state=0)\n",
        "svc = SVC(max_iter=1000)\n",
        "svc.fit(X_train, y_train)\n",
        "Y_pred = svc.predict(X_test)\n",
        "acc_svc = round(svc.score(X_train, y_train) * 100, 2)\n",
        "print(\"svm accuracy =\", acc_svc)"
      ],
      "metadata": {
        "id": "EOCS52JDKHAS"
      },
      "execution_count": null,
      "outputs": []
    },
    {
      "cell_type": "code",
      "source": [
        "import pandas as pd\n",
        "import numpy as np\n",
        "import seaborn as sns\n",
        "from matplotlib import pyplot as plt\n",
        "df = pd.read_csv(\"/content/gdrive/MyDrive/datasets/Iris.csv\")\n",
        "df.head()\n",
        "from sklearn.preprocessing import StandardScaler\n",
        "stdsc = StandardScaler()\n",
        "X_train_std = stdsc.fit_transform(df.iloc[:,range(0,4)].values)\n",
        "from sklearn.preprocessing import LabelEncoder\n",
        "class_le = LabelEncoder()\n",
        "y = class_le.fit_transform(df['Species'].values)\n",
        "from sklearn.discriminant_analysis import LinearDiscriminantAnalysis\n",
        "lda = LinearDiscriminantAnalysis(n_components=2)\n",
        "X_train_lda = lda.fit_transform(X_train_std,y)\n",
        "data=pd.DataFrame(X_train_lda)\n",
        "data['class']=y\n",
        "data.columns=[\"LD1\",\"LD2\",\"class\"]\n",
        "data.head()\n",
        "markers = ['s', 'x', 'o']\n",
        "colors = ['r', 'b', 'g']\n",
        "sns.lmplot(x=\"LD1\", y=\"LD2\", data=data, hue='class', markers=markers, fit_\n",
        "reg=False, legend=False)\n",
        "plt.legend(loc='upper center')\n",
        "plt.show()"
      ],
      "metadata": {
        "id": "O0zUKIg4KlWN"
      },
      "execution_count": null,
      "outputs": []
    }
  ]
}